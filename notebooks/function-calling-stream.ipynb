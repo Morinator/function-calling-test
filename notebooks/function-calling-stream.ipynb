{
 "cells": [
  {
   "cell_type": "code",
   "execution_count": 1,
   "metadata": {},
   "outputs": [],
   "source": [
    "import openai\n",
    "import json\n",
    "import yaml"
   ]
  },
  {
   "cell_type": "code",
   "execution_count": 2,
   "metadata": {},
   "outputs": [],
   "source": [
    "# Loading the API key and organization ID from file (NOT pushed to GitHub)\n",
    "with open('../keys/openai-keys.yaml') as f:\n",
    "    keys_yaml = yaml.safe_load(f)\n",
    "\n",
    "# Applying our API key and organization ID to OpenAI\n",
    "openai.organization = keys_yaml['ORG_ID']\n",
    "openai.api_key = keys_yaml['API_KEY']"
   ]
  },
  {
   "cell_type": "code",
   "execution_count": 3,
   "metadata": {},
   "outputs": [
    {
     "data": {
      "text/plain": [
       "'Hello! My name is David Hundley. I am a principal machine learning engineer at State Farm. I enjoy learning about AI and teaching what I learn back to others. I have two daughters. I drive a Tesla Model 3, and my favorite video game series is The Legend of Zelda.'"
      ]
     },
     "execution_count": 3,
     "metadata": {},
     "output_type": "execute_result"
    }
   ],
   "source": [
    "with open('../data/about-me.txt', 'r') as f:\n",
    "    about_me = f.read()\n",
    "\n",
    "about_me"
   ]
  },
  {
   "cell_type": "code",
   "execution_count": 4,
   "metadata": {},
   "outputs": [],
   "source": [
    "about_me_prompt = f'''\n",
    "Please extract information as a JSON object. Please look for the following pieces of information:\n",
    "Name\n",
    "Job title\n",
    "Company\n",
    "Number of children as a single integer\n",
    "Car make\n",
    "Car model\n",
    "Favorite video game series\n",
    "\n",
    "This is the body of text to extract the information from:\n",
    "{about_me}\n",
    "'''"
   ]
  },
  {
   "cell_type": "code",
   "execution_count": 5,
   "metadata": {},
   "outputs": [
    {
     "data": {
      "text/plain": [
       "<OpenAIObject chat.completion id=chatcmpl-7a3uMnJrdc5gmErAGynuRreOiQQRO at 0x108420f90> JSON: {\n",
       "  \"id\": \"chatcmpl-7a3uMnJrdc5gmErAGynuRreOiQQRO\",\n",
       "  \"object\": \"chat.completion\",\n",
       "  \"created\": 1688829186,\n",
       "  \"model\": \"gpt-3.5-turbo-0613\",\n",
       "  \"choices\": [\n",
       "    {\n",
       "      \"index\": 0,\n",
       "      \"message\": {\n",
       "        \"role\": \"assistant\",\n",
       "        \"content\": \"{\\n  \\\"Name\\\": \\\"David Hundley\\\",\\n  \\\"Job title\\\": \\\"Principal Machine Learning Engineer\\\",\\n  \\\"Company\\\": \\\"State Farm\\\",\\n  \\\"Number of children\\\": 2,\\n  \\\"Car make\\\": \\\"Tesla\\\",\\n  \\\"Car model\\\": \\\"Model 3\\\",\\n  \\\"Favorite video game series\\\": \\\"The Legend of Zelda\\\"\\n}\"\n",
       "      },\n",
       "      \"finish_reason\": \"stop\"\n",
       "    }\n",
       "  ],\n",
       "  \"usage\": {\n",
       "    \"prompt_tokens\": 122,\n",
       "    \"completion_tokens\": 70,\n",
       "    \"total_tokens\": 192\n",
       "  }\n",
       "}"
      ]
     },
     "execution_count": 5,
     "metadata": {},
     "output_type": "execute_result"
    }
   ],
   "source": [
    "openai_response = openai.ChatCompletion.create(\n",
    "    model = 'gpt-3.5-turbo',\n",
    "    messages = [{'role': 'user', 'content': about_me_prompt}]\n",
    ")\n",
    "\n",
    "openai_response"
   ]
  },
  {
   "cell_type": "code",
   "execution_count": 6,
   "metadata": {},
   "outputs": [
    {
     "data": {
      "text/plain": [
       "{'Name': 'David Hundley',\n",
       " 'Job title': 'Principal Machine Learning Engineer',\n",
       " 'Company': 'State Farm',\n",
       " 'Number of children': 2,\n",
       " 'Car make': 'Tesla',\n",
       " 'Car model': 'Model 3',\n",
       " 'Favorite video game series': 'The Legend of Zelda'}"
      ]
     },
     "execution_count": 6,
     "metadata": {},
     "output_type": "execute_result"
    }
   ],
   "source": [
    "json.loads(openai_response['choices'][0]['message']['content'])"
   ]
  },
  {
   "cell_type": "code",
   "execution_count": 10,
   "metadata": {},
   "outputs": [],
   "source": [
    "string1 = 'David'\n",
    "string2 = 'david'\n",
    "string3 = 'David.'\n",
    "string4 = 'David'"
   ]
  },
  {
   "cell_type": "code",
   "execution_count": 11,
   "metadata": {},
   "outputs": [
    {
     "data": {
      "text/plain": [
       "False"
      ]
     },
     "execution_count": 11,
     "metadata": {},
     "output_type": "execute_result"
    }
   ],
   "source": [
    "string1 == string2"
   ]
  },
  {
   "cell_type": "code",
   "execution_count": 12,
   "metadata": {},
   "outputs": [
    {
     "data": {
      "text/plain": [
       "True"
      ]
     },
     "execution_count": 12,
     "metadata": {},
     "output_type": "execute_result"
    }
   ],
   "source": [
    "string1 == string4"
   ]
  },
  {
   "cell_type": "code",
   "execution_count": 39,
   "metadata": {},
   "outputs": [],
   "source": [
    "functions = [\n",
    "    {\n",
    "        'name': 'extract_person_info',\n",
    "        'description': 'Get \"About Me\" information from the body of the input text.',\n",
    "        'parameters': {\n",
    "            'type': 'object',\n",
    "            'properties': {\n",
    "                'name': {\n",
    "                    'type': 'string',\n",
    "                    'description': 'Name of the person'\n",
    "                },\n",
    "                'job_title': {\n",
    "                    'type': 'string',\n",
    "                    'description': 'Job title of person' \n",
    "                },\n",
    "                'num_children': {\n",
    "                    'type': 'integer',\n",
    "                    'description': 'Number of children the person is a parent to'\n",
    "                }\n",
    "            }\n",
    "        }\n",
    "    },\n",
    "    {\n",
    "        'name': 'extract_car_info',\n",
    "        'description': 'Extract the make and model of the person\\'s car',\n",
    "        'parameters': {\n",
    "            'type': 'object',\n",
    "            'properties': {\n",
    "                'vehicle_make': {\n",
    "                    'type': 'string',\n",
    "                    'description': 'Make of the person\\'s vehicle'\n",
    "                },\n",
    "                'vehicle_model': {\n",
    "                    'type': 'string',\n",
    "                    'description': 'Model of the person\\'s vehicle'\n",
    "                }\n",
    "            }\n",
    "        }\n",
    "    },\n",
    "    {\n",
    "        'name': 'extract_all_info',\n",
    "        'description': 'Extract all information about a person including their vehicle make and model',\n",
    "        'parameters': {\n",
    "            'type': 'object',\n",
    "            'properties': {\n",
    "                'name': {\n",
    "                    'type': 'string',\n",
    "                    'description': 'Name of the person'\n",
    "                },\n",
    "                'job_title': {\n",
    "                    'type': 'string',\n",
    "                    'description': 'Job title of the person'\n",
    "                },\n",
    "                'num_children': {\n",
    "                    'type': 'integer',\n",
    "                    'description': 'Number of children the person is a parent to'\n",
    "                },\n",
    "                'vehicle_make': {\n",
    "                    'type': 'string',\n",
    "                    'description': 'Make of the person\\'s vehicle'\n",
    "                },\n",
    "                'vehicle_model': {\n",
    "                    'type': 'string',\n",
    "                    'description': 'Model of the person\\'s vehicle'\n",
    "                },\n",
    "                'company_name': {\n",
    "                    'type': 'string',\n",
    "                    'description': 'Name of the company the person works for'\n",
    "                },\n",
    "                'favorite_vg_series': {\n",
    "                    'type': 'string',\n",
    "                    'description': 'Name of the person\\'s favorite video game series'\n",
    "                }\n",
    "            }\n",
    "        }\n",
    "    }\n",
    "]"
   ]
  },
  {
   "cell_type": "code",
   "execution_count": 21,
   "metadata": {},
   "outputs": [
    {
     "data": {
      "text/plain": [
       "<OpenAIObject chat.completion id=chatcmpl-7a4CdkHofcT03WPSOVmRRTj8jcEYp at 0x11a57d3a0> JSON: {\n",
       "  \"id\": \"chatcmpl-7a4CdkHofcT03WPSOVmRRTj8jcEYp\",\n",
       "  \"object\": \"chat.completion\",\n",
       "  \"created\": 1688830319,\n",
       "  \"model\": \"gpt-3.5-turbo-0613\",\n",
       "  \"choices\": [\n",
       "    {\n",
       "      \"index\": 0,\n",
       "      \"message\": {\n",
       "        \"role\": \"assistant\",\n",
       "        \"content\": null,\n",
       "        \"function_call\": {\n",
       "          \"name\": \"extract_person_info\",\n",
       "          \"arguments\": \"{\\n  \\\"name\\\": \\\"David Hundley\\\",\\n  \\\"job_title\\\": \\\"Principal Machine Learning Engineer\\\",\\n  \\\"num_children\\\": 2\\n}\"\n",
       "        }\n",
       "      },\n",
       "      \"finish_reason\": \"function_call\"\n",
       "    }\n",
       "  ],\n",
       "  \"usage\": {\n",
       "    \"prompt_tokens\": 146,\n",
       "    \"completion_tokens\": 37,\n",
       "    \"total_tokens\": 183\n",
       "  }\n",
       "}"
      ]
     },
     "execution_count": 21,
     "metadata": {},
     "output_type": "execute_result"
    }
   ],
   "source": [
    "openai_response = openai.ChatCompletion.create(\n",
    "    model = 'gpt-3.5-turbo',\n",
    "    messages = [{'role': 'user', 'content': about_me}],\n",
    "    functions = functions,\n",
    "    function_call = 'auto'\n",
    ")\n",
    "\n",
    "openai_response"
   ]
  },
  {
   "cell_type": "code",
   "execution_count": 23,
   "metadata": {},
   "outputs": [],
   "source": [
    "json_response = json.loads(openai_response['choices'][0]['message']['function_call']['arguments'])"
   ]
  },
  {
   "cell_type": "code",
   "execution_count": 25,
   "metadata": {},
   "outputs": [
    {
     "data": {
      "text/plain": [
       "{'name': 'David Hundley',\n",
       " 'job_title': 'Principal Machine Learning Engineer',\n",
       " 'num_children': 2}"
      ]
     },
     "execution_count": 25,
     "metadata": {},
     "output_type": "execute_result"
    }
   ],
   "source": [
    "json_response"
   ]
  },
  {
   "cell_type": "code",
   "execution_count": 26,
   "metadata": {},
   "outputs": [],
   "source": [
    "def extract_person_info(name, job_title, num_children):\n",
    "    return f'The person\\'s name is {name}. Their job title is {job_title}. They have {num_children} children.'"
   ]
  },
  {
   "cell_type": "code",
   "execution_count": 33,
   "metadata": {},
   "outputs": [
    {
     "data": {
      "text/plain": [
       "<OpenAIObject chat.completion id=chatcmpl-7a4CdkHofcT03WPSOVmRRTj8jcEYp at 0x11a57d3a0> JSON: {\n",
       "  \"id\": \"chatcmpl-7a4CdkHofcT03WPSOVmRRTj8jcEYp\",\n",
       "  \"object\": \"chat.completion\",\n",
       "  \"created\": 1688830319,\n",
       "  \"model\": \"gpt-3.5-turbo-0613\",\n",
       "  \"choices\": [\n",
       "    {\n",
       "      \"index\": 0,\n",
       "      \"message\": {\n",
       "        \"role\": \"assistant\",\n",
       "        \"content\": null,\n",
       "        \"function_call\": {\n",
       "          \"name\": \"extract_person_info\",\n",
       "          \"arguments\": \"{\\n  \\\"name\\\": \\\"David Hundley\\\",\\n  \\\"job_title\\\": \\\"Principal Machine Learning Engineer\\\",\\n  \\\"num_children\\\": 2\\n}\"\n",
       "        }\n",
       "      },\n",
       "      \"finish_reason\": \"function_call\"\n",
       "    }\n",
       "  ],\n",
       "  \"usage\": {\n",
       "    \"prompt_tokens\": 146,\n",
       "    \"completion_tokens\": 37,\n",
       "    \"total_tokens\": 183\n",
       "  }\n",
       "}"
      ]
     },
     "execution_count": 33,
     "metadata": {},
     "output_type": "execute_result"
    }
   ],
   "source": [
    "openai_response"
   ]
  },
  {
   "cell_type": "code",
   "execution_count": 37,
   "metadata": {},
   "outputs": [
    {
     "name": "stdout",
     "output_type": "stream",
     "text": [
      "The person's name is David Hundley. Their job title is Principal Machine Learning Engineer. They have 2 children.\n"
     ]
    }
   ],
   "source": [
    "if openai_response[\"choices\"][0][\"message\"].get('function_call'):\n",
    "\n",
    "    json_response = json.loads(openai_response['choices'][0]['message']['function_call']['arguments'])\n",
    "\n",
    "    available_functions = {\n",
    "        'extract_person_info': extract_person_info,\n",
    "        'extract_car_information'\n",
    "    }\n",
    "\n",
    "    function_to_call = openai_response['choices'][0]['message']['function_call']['name']\n",
    "\n",
    "    print(available_functions[function_to_call](json_response['name'], json_response['job_title'], json_response['num_children']))"
   ]
  },
  {
   "cell_type": "code",
   "execution_count": 43,
   "metadata": {},
   "outputs": [
    {
     "data": {
      "text/plain": [
       "<OpenAIObject chat.completion id=chatcmpl-7a4SSkw8TErZcpeblPvzPDBRd1ps7 at 0x10a718720> JSON: {\n",
       "  \"id\": \"chatcmpl-7a4SSkw8TErZcpeblPvzPDBRd1ps7\",\n",
       "  \"object\": \"chat.completion\",\n",
       "  \"created\": 1688831300,\n",
       "  \"model\": \"gpt-3.5-turbo-0613\",\n",
       "  \"choices\": [\n",
       "    {\n",
       "      \"index\": 0,\n",
       "      \"message\": {\n",
       "        \"role\": \"assistant\",\n",
       "        \"content\": null,\n",
       "        \"function_call\": {\n",
       "          \"name\": \"extract_person_info\",\n",
       "          \"arguments\": \"{\\n  \\\"name\\\": \\\"David Hundley\\\",\\n  \\\"job_title\\\": \\\"Principal Machine Learning Engineer\\\",\\n  \\\"num_children\\\": 2\\n}\"\n",
       "        }\n",
       "      },\n",
       "      \"finish_reason\": \"function_call\"\n",
       "    }\n",
       "  ],\n",
       "  \"usage\": {\n",
       "    \"prompt_tokens\": 281,\n",
       "    \"completion_tokens\": 37,\n",
       "    \"total_tokens\": 318\n",
       "  }\n",
       "}"
      ]
     },
     "execution_count": 43,
     "metadata": {},
     "output_type": "execute_result"
    }
   ],
   "source": [
    "openai_response = openai.ChatCompletion.create(\n",
    "    model = 'gpt-3.5-turbo',\n",
    "    messages = [{'role': 'user', 'content': 'My name is David Hundley. I work as a principal machine learning engineer. I have two daughters.'}],\n",
    "    functions = functions,\n",
    "    function_call = 'auto'\n",
    ")\n",
    "\n",
    "openai_response"
   ]
  },
  {
   "cell_type": "code",
   "execution_count": null,
   "metadata": {},
   "outputs": [],
   "source": []
  }
 ],
 "metadata": {
  "kernelspec": {
   "display_name": "Python 3",
   "language": "python",
   "name": "python3"
  },
  "language_info": {
   "codemirror_mode": {
    "name": "ipython",
    "version": 3
   },
   "file_extension": ".py",
   "mimetype": "text/x-python",
   "name": "python",
   "nbconvert_exporter": "python",
   "pygments_lexer": "ipython3",
   "version": "3.10.7"
  },
  "orig_nbformat": 4
 },
 "nbformat": 4,
 "nbformat_minor": 2
}
